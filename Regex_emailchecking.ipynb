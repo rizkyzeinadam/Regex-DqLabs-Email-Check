{
 "cells": [
  {
   "cell_type": "code",
   "execution_count": 4,
   "metadata": {},
   "outputs": [
    {
     "name": "stdout",
     "output_type": "stream",
     "text": [
      "Not Pass\n",
      "Pass\n",
      "Pass\n",
      "Pass\n",
      "Not Pass\n",
      "Not Pass\n",
      "Pass\n",
      "Not Pass\n",
      "Not Pass\n"
     ]
    }
   ],
   "source": [
    "#import library yang dibutuhkan\n",
    "import re\n",
    "\n",
    "#function email_check\n",
    "regex = '[-]|((\\.\\w+){2})|([\\d+]{1,6}(\\.))|([\\d+]{1,6}([a-z]))|(........)(\\.\\d+)'\n",
    "#Masukkan data email ke dalam list\n",
    "emails = ['my-name@someemail.com',\n",
    "          'myname@someemail.com',\n",
    "          'my.name@someemail.com',\n",
    "          'my.name2019@someemail.com',\n",
    "          'my.name.2019@someemail.com',\n",
    "          'somename.201903@someemail.com',\n",
    "          'my_name.201903@someemail.com',\n",
    "          '201903myname@someemail.com',\n",
    "          '201903.myname@someemail.com'\n",
    "         ]\n",
    "\n",
    "\n",
    "#Looping untuk pengecekan Pass atau Not Pass\n",
    "for i in emails :\n",
    "\tif re.search(regex,i):\n",
    "\t\tprint(\"Not Pass\")\n",
    "\telse:\n",
    "\t\tprint(\"Pass\")"
   ]
  },
  {
   "cell_type": "code",
   "execution_count": null,
   "metadata": {},
   "outputs": [],
   "source": [
    "my-name@someemail.com\n",
    "myname@someemail.com\n",
    "my.name@someemail.com\n",
    "my.name2019@someemail.com\n",
    "my.name.2019@someemail.com\n",
    "somename.201903@someemail.com\n",
    "my_name.201903@someemail.com\n",
    "201903myname@someemail.com\n",
    "201903.myname@someemail.com\n",
    "\n",
    "[-]|(\\.\\w+){2}|"
   ]
  }
 ],
 "metadata": {
  "kernelspec": {
   "display_name": "Python 3",
   "language": "python",
   "name": "python3"
  },
  "language_info": {
   "codemirror_mode": {
    "name": "ipython",
    "version": 3
   },
   "file_extension": ".py",
   "mimetype": "text/x-python",
   "name": "python",
   "nbconvert_exporter": "python",
   "pygments_lexer": "ipython3",
   "version": "3.7.4"
  }
 },
 "nbformat": 4,
 "nbformat_minor": 4
}
